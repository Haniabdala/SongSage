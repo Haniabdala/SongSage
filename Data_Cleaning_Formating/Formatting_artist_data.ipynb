{
 "cells": [
  {
   "cell_type": "code",
   "execution_count": 107,
   "id": "16887c04-a25d-47ef-8036-1584830ec7d7",
   "metadata": {},
   "outputs": [],
   "source": [
    "import pandas as pd\n",
    "\n",
    "df_final = pd.read_csv(\"Final_df.csv\")\n",
    "\n",
    "for i in range(len(df_final)):\n",
    "    if(\"['\" in df_final.iloc[i]['artist']):\n",
    "        part1,part2 = df_final.iloc[i]['artist'].split(\"['\", 1)\n",
    "        if(\"',\" in part2):\n",
    "            result = part2.split(\"',\", 1)[0]\n",
    "            df_final.iloc[i,1] = result\n",
    "        elif(\"']\" in part2):\n",
    "            result = part2.split(\"']\",1)[0]\n",
    "            df_final.iloc[i,1] = result\n",
    "    elif(\"[\\\"\" in df_final.iloc[i]['artist']):\n",
    "        part1,part2 = df_final.iloc[i]['artist'].split(\"[\\\"\", 1)\n",
    "        if(\"\\\",\" in part2):\n",
    "            result = part2.split(\"\\\",\", 1)[0]\n",
    "            df_final.iloc[i,1] = result\n",
    "        elif(\"\\\"]\" in part2):\n",
    "            result = part2.split(\"\\\"]\",1)[0]\n",
    "            df_final.iloc[i,1] = result"
   ]
  },
  {
   "cell_type": "code",
   "execution_count": 110,
   "id": "d8c5455d-0920-450c-bb76-cd06ce40da5b",
   "metadata": {},
   "outputs": [],
   "source": [
    "df_final.to_csv(\"Final_df_cleaned.csv\")"
   ]
  }
 ],
 "metadata": {
  "kernelspec": {
   "display_name": "Python 3 (ipykernel)",
   "language": "python",
   "name": "python3"
  },
  "language_info": {
   "codemirror_mode": {
    "name": "ipython",
    "version": 3
   },
   "file_extension": ".py",
   "mimetype": "text/x-python",
   "name": "python",
   "nbconvert_exporter": "python",
   "pygments_lexer": "ipython3",
   "version": "3.13.1"
  }
 },
 "nbformat": 4,
 "nbformat_minor": 5
}
